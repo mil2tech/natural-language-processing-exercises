{
 "cells": [
  {
   "cell_type": "code",
   "execution_count": 1,
   "metadata": {},
   "outputs": [],
   "source": [
    "from requests import get\n",
    "from bs4 import BeautifulSoup\n",
    "import os\n",
    "import pandas as pd"
   ]
  },
  {
   "cell_type": "markdown",
   "metadata": {},
   "source": [
    "At a high level, we'll go about web scraping through this process:\n",
    "\n",
    "- Manually explore the site in a web browser, and identify the relevant HTML elements.\n",
    "- Use the requests module to obtain the HTML from the page.\n",
    "- Use BeautifulSoup to parse the HTML and obtain the text/data that we want.\n",
    "- (Maybe) Script the process of requesting another page and parsing the data from it as well.\n",
    "- Take this data further down the data science pipeline."
   ]
  },
  {
   "cell_type": "markdown",
   "metadata": {},
   "source": [
    "**Steps**\n",
    "- Import the get() function from the requests module, BeautifulSoup from bs4, and pandas.\n",
    "- Assign the address of the web page to a variable named url.\n",
    "- Request the server the content of the web page by using get(), and store the server’s response in the variable response.\n",
    "- Print the response text to ensure you have an html page.\n",
    "- Take a look at the actual web page contents and inspect the source to understand the structure a bit.\n",
    "- Use BeautifulSoup to parse the HTML into a variable ('soup').\n",
    "- Identify the key tags you need to extract the data you are looking for.\n",
    "- Create a dataframe of the data desired.\n",
    "- Run some summary stats and inspect the data to ensure you have what you wanted.\n",
    "- Edit the data structure as needed, especially so that one column has all the text you want included in this analysis.\n",
    "- Create a corpus of the column with the text you want to analyze.\n",
    "- Store that corpus for use in a future notebook."
   ]
  },
  {
   "cell_type": "markdown",
   "metadata": {},
   "source": [
    "## Codeup Blog Articles"
   ]
  },
  {
   "cell_type": "markdown",
   "metadata": {},
   "source": [
    "**Question 1**\n",
    "\n",
    "Codeup Blog Articles\n",
    "\n",
    "Visit Codeup's Blog and record the urls for at least 5 distinct blog posts. For each post, you should scrape at least the post's title and content.\n",
    "\n",
    "Encapsulate your work in a function named get_blog_articles that will return a list of dictionaries, with each dictionary representing one article. The shape of each dictionary should look like this:\n",
    "\n",
    "```\n",
    "{\n",
    "    'title': 'the title of the article',\n",
    "    'content': 'the full text content of the article'\n",
    "}\n",
    "```\n",
    "Plus any additional properties you think might be helpful.\n",
    "\n",
    "**Bonus**: Scrape the text of *all* the articles linked on codeup's blog page.\n"
   ]
  },
  {
   "cell_type": "code",
   "execution_count": 21,
   "metadata": {},
   "outputs": [],
   "source": [
    "url = 'https://codeup.com/blog/'\n",
    "headers = {'User-Agent': 'Codeup Data Science'} # Some websites don't accept the pyhon-requests default user-agent\n",
    "response = get(url, headers=headers)"
   ]
  },
  {
   "cell_type": "code",
   "execution_count": 25,
   "metadata": {},
   "outputs": [
    {
     "name": "stdout",
     "output_type": "stream",
     "text": [
      "<!DOCTYPE html>\n",
      "<html lang=\"en-US\">\n",
      "<head>\n",
      "\t<meta charset=\"UTF-8\" />\n",
      "<meta http-equiv=\"X-UA-Compatible\" content=\"IE=edge\">\n",
      "\t<link rel=\"pingback\" href=\"https://codeup.com/xmlrpc.php\" />\n",
      "\n",
      "\t<script type=\"text/javascript\">\n",
      "\t\tdocument.documentElement.className = 'js';\n",
      "\t</script>\n",
      "\t\n",
      "\t<link rel=\"preconnect\" href=\"https://fonts.gstatic.com\" crossorigin /><script id=\"diviarea-loader\">window.DiviPopupData=wi\n"
     ]
    }
   ],
   "source": [
    "print(response.text[:400])"
   ]
  },
  {
   "cell_type": "code",
   "execution_count": 23,
   "metadata": {},
   "outputs": [],
   "source": [
    "# Make a soup variable holding the response content\n",
    "soup = BeautifulSoup(response.content, 'html.parser')"
   ]
  },
  {
   "cell_type": "code",
   "execution_count": 32,
   "metadata": {},
   "outputs": [
    {
     "data": {
      "text/plain": [
       "[<h2 class=\"et_pb_slide_title\"><a href=\"https://codeup.com/data-science/recession-proof-career/\">Is a Career in Tech Recession-Proof?</a></h2>,\n",
       " <h2 class=\"et_pb_slide_title\"><a href=\"https://codeup.com/featured/series-part-3-web-development/\">What Jobs Can You Get After a Coding Bootcamp? Part 3: Web Development</a></h2>,\n",
       " <h2 class=\"et_pb_slide_title\"><a href=\"https://codeup.com/featured/what-jobs-can-you-get-after-a-coding-bootcamp-part-2-cloud-administration/\">What Jobs Can You Get After a Coding Bootcamp? Part 2: Cloud Administration</a></h2>,\n",
       " <h2 class=\"et_pb_slide_title\"><a href=\"https://codeup.com/data-science/jobs-after-a-coding-bootcamp-part-1-data-science/\">What Jobs Can You Get After a Coding Bootcamp? Part 1: Data Science</a></h2>,\n",
       " <h2 class=\"entry-title\"><a href=\"https://codeup.com/data-science/recession-proof-career/\">Is a Career in Tech Recession-Proof?</a></h2>,\n",
       " <h2 class=\"entry-title\"><a href=\"https://codeup.com/codeup-news/codeup-x-comic-con/\">Codeup X Superhero Car Show &amp; Comic Con</a></h2>,\n",
       " <h2 class=\"entry-title\"><a href=\"https://codeup.com/featured/series-part-3-web-development/\">What Jobs Can You Get After a Coding Bootcamp? Part 3: Web Development</a></h2>,\n",
       " <h2 class=\"entry-title\"><a href=\"https://codeup.com/codeup-news/codeup-dallas-campus/\">Codeup’s New Dallas Campus</a></h2>,\n",
       " <h2 class=\"entry-title\"><a href=\"https://codeup.com/codeup-news/codeup-tv-commercial/\">Codeup TV Commercial</a></h2>,\n",
       " <h2 class=\"entry-title\"><a href=\"https://codeup.com/featured/what-jobs-can-you-get-after-a-coding-bootcamp-part-2-cloud-administration/\">What Jobs Can You Get After a Coding Bootcamp? Part 2: Cloud Administration</a></h2>,\n",
       " <h2 class=\"entry-title\"><a href=\"https://codeup.com/data-science/jobs-after-a-coding-bootcamp-part-1-data-science/\">What Jobs Can You Get After a Coding Bootcamp? Part 1: Data Science</a></h2>,\n",
       " <h2 class=\"entry-title\"><a href=\"https://codeup.com/workshops/san-antonio/in-person-workshop-learn-to-code-javascript-on-7-26/\">In-Person Workshop: Learn to Code – JavaScript on 7/26</a></h2>,\n",
       " <h2 class=\"entry-title\"><a href=\"https://codeup.com/workshops/in-person-workshop-learn-to-code-python-on-7-19/\">In-Person Workshop: Learn to Code – Python on 7/19</a></h2>,\n",
       " <h2 class=\"entry-title\"><a href=\"https://codeup.com/workshops/dallas/free-javascript-workshop-at-codeup-dallas-on-6-28/\">Free JavaScript Workshop at Codeup Dallas on 6/28</a></h2>,\n",
       " <h2 class=\"entry-title\"><a href=\"https://codeup.com/tips-for-prospective-students/is-our-cloud-administration-program-right-for-you/\">Is Our Cloud Administration Program Right for You?</a></h2>,\n",
       " <h2 class=\"entry-title\"><a href=\"https://codeup.com/workshops/pride-in-tech-panel/\">PRIDE in Tech Panel</a></h2>,\n",
       " <h2 class=\"entry-title\"><a href=\"https://codeup.com/codeup-news/inclusion-at-codeup-during-pride-month-and-always/\">Inclusion at Codeup During Pride Month (and Always)</a></h2>,\n",
       " <h2 class=\"entry-title\"><a href=\"https://codeup.com/tips-for-prospective-students/mental-health-first-aid-training/\">Mental Health First Aid Training</a></h2>,\n",
       " <h2 class=\"entry-title\"><a href=\"https://codeup.com/workshops/codeup-dallas-how-to-succeed-at-a-coding-bootcamp-on-june-9th/\">Codeup Dallas: How to Succeed at a Coding Bootcamp on June 9th</a></h2>,\n",
       " <h2 class=\"entry-title\"><a href=\"https://codeup.com/featured/5-reasons-to-attend-our-new-cloud-administration-program/\">5 Reasons To Attend Our New Cloud Administration Program</a></h2>,\n",
       " <h2 class=\"entry-title\"><a href=\"https://codeup.com/workshops/learn-to-code-python-on-5-21/\">Learn to Code: Python on 5/21</a></h2>,\n",
       " <h2 class=\"entry-title\"><a href=\"https://codeup.com/dallas-newsletter/codeup-dallas-joins-career-day/\">Codeup Dallas Joins Career Day</a></h2>]"
      ]
     },
     "execution_count": 32,
     "metadata": {},
     "output_type": "execute_result"
    }
   ],
   "source": [
    "soup.find_all(\"h2\")"
   ]
  },
  {
   "cell_type": "code",
   "execution_count": 14,
   "metadata": {},
   "outputs": [
    {
     "data": {
      "text/plain": [
       "[<a href=\"https://codeup.com/data-science/recession-proof-career/\">Is a Career in Tech Recession-Proof?</a>,\n",
       " <a href=\"https://codeup.com/featured/series-part-3-web-development/\">What Jobs Can You Get After a Coding Bootcamp? Part 3: Web Development</a>,\n",
       " <a href=\"https://codeup.com/featured/what-jobs-can-you-get-after-a-coding-bootcamp-part-2-cloud-administration/\">What Jobs Can You Get After a Coding Bootcamp? Part 2: Cloud Administration</a>,\n",
       " <a href=\"https://codeup.com/data-science/jobs-after-a-coding-bootcamp-part-1-data-science/\">What Jobs Can You Get After a Coding Bootcamp? Part 1: Data Science</a>,\n",
       " <a href=\"https://codeup.com/data-science/recession-proof-career/\">Is a Career in Tech Recession-Proof?</a>,\n",
       " <a href=\"https://codeup.com/codeup-news/codeup-x-comic-con/\">Codeup X Superhero Car Show &amp; Comic Con</a>,\n",
       " <a href=\"https://codeup.com/featured/series-part-3-web-development/\">What Jobs Can You Get After a Coding Bootcamp? Part 3: Web Development</a>,\n",
       " <a href=\"https://codeup.com/codeup-news/codeup-dallas-campus/\">Codeup’s New Dallas Campus</a>,\n",
       " <a href=\"https://codeup.com/codeup-news/codeup-tv-commercial/\">Codeup TV Commercial</a>,\n",
       " <a href=\"https://codeup.com/featured/what-jobs-can-you-get-after-a-coding-bootcamp-part-2-cloud-administration/\">What Jobs Can You Get After a Coding Bootcamp? Part 2: Cloud Administration</a>,\n",
       " <a href=\"https://codeup.com/data-science/jobs-after-a-coding-bootcamp-part-1-data-science/\">What Jobs Can You Get After a Coding Bootcamp? Part 1: Data Science</a>,\n",
       " <a href=\"https://codeup.com/workshops/san-antonio/in-person-workshop-learn-to-code-javascript-on-7-26/\">In-Person Workshop: Learn to Code – JavaScript on 7/26</a>,\n",
       " <a href=\"https://codeup.com/workshops/in-person-workshop-learn-to-code-python-on-7-19/\">In-Person Workshop: Learn to Code – Python on 7/19</a>,\n",
       " <a href=\"https://codeup.com/workshops/dallas/free-javascript-workshop-at-codeup-dallas-on-6-28/\">Free JavaScript Workshop at Codeup Dallas on 6/28</a>,\n",
       " <a href=\"https://codeup.com/tips-for-prospective-students/is-our-cloud-administration-program-right-for-you/\">Is Our Cloud Administration Program Right for You?</a>,\n",
       " <a href=\"https://codeup.com/workshops/pride-in-tech-panel/\">PRIDE in Tech Panel</a>,\n",
       " <a href=\"https://codeup.com/codeup-news/inclusion-at-codeup-during-pride-month-and-always/\">Inclusion at Codeup During Pride Month (and Always)</a>,\n",
       " <a href=\"https://codeup.com/tips-for-prospective-students/mental-health-first-aid-training/\">Mental Health First Aid Training</a>,\n",
       " <a href=\"https://codeup.com/workshops/codeup-dallas-how-to-succeed-at-a-coding-bootcamp-on-june-9th/\">Codeup Dallas: How to Succeed at a Coding Bootcamp on June 9th</a>,\n",
       " <a href=\"https://codeup.com/featured/5-reasons-to-attend-our-new-cloud-administration-program/\">5 Reasons To Attend Our New Cloud Administration Program</a>,\n",
       " <a href=\"https://codeup.com/workshops/learn-to-code-python-on-5-21/\">Learn to Code: Python on 5/21</a>,\n",
       " <a href=\"https://codeup.com/dallas-newsletter/codeup-dallas-joins-career-day/\">Codeup Dallas Joins Career Day</a>]"
      ]
     },
     "execution_count": 14,
     "metadata": {},
     "output_type": "execute_result"
    }
   ],
   "source": [
    "soup.select('h2 a[href]')"
   ]
  },
  {
   "cell_type": "code",
   "execution_count": 15,
   "metadata": {},
   "outputs": [
    {
     "data": {
      "text/plain": [
       "<a href=\"https://codeup.com/data-science/recession-proof-career/\">Is a Career in Tech Recession-Proof?</a>"
      ]
     },
     "execution_count": 15,
     "metadata": {},
     "output_type": "execute_result"
    }
   ],
   "source": [
    "soup.select('h2 a[href]')[0]"
   ]
  },
  {
   "cell_type": "code",
   "execution_count": 35,
   "metadata": {},
   "outputs": [
    {
     "data": {
      "text/plain": [
       "[1, 2, 3, 4, 5]"
      ]
     },
     "execution_count": 35,
     "metadata": {},
     "output_type": "execute_result"
    }
   ],
   "source": [
    "[i for i in range(1, 6)]"
   ]
  },
  {
   "cell_type": "code",
   "execution_count": 39,
   "metadata": {},
   "outputs": [
    {
     "data": {
      "text/plain": [
       "['https://codeup.com/data-science/recession-proof-career/',\n",
       " 'https://codeup.com/featured/series-part-3-web-development/',\n",
       " 'https://codeup.com/featured/what-jobs-can-you-get-after-a-coding-bootcamp-part-2-cloud-administration/',\n",
       " 'https://codeup.com/data-science/jobs-after-a-coding-bootcamp-part-1-data-science/',\n",
       " 'https://codeup.com/data-science/recession-proof-career/',\n",
       " 'https://codeup.com/codeup-news/codeup-x-comic-con/',\n",
       " 'https://codeup.com/featured/series-part-3-web-development/',\n",
       " 'https://codeup.com/codeup-news/codeup-dallas-campus/',\n",
       " 'https://codeup.com/codeup-news/codeup-tv-commercial/',\n",
       " 'https://codeup.com/featured/what-jobs-can-you-get-after-a-coding-bootcamp-part-2-cloud-administration/',\n",
       " 'https://codeup.com/data-science/jobs-after-a-coding-bootcamp-part-1-data-science/',\n",
       " 'https://codeup.com/workshops/san-antonio/in-person-workshop-learn-to-code-javascript-on-7-26/',\n",
       " 'https://codeup.com/workshops/in-person-workshop-learn-to-code-python-on-7-19/',\n",
       " 'https://codeup.com/workshops/dallas/free-javascript-workshop-at-codeup-dallas-on-6-28/',\n",
       " 'https://codeup.com/tips-for-prospective-students/is-our-cloud-administration-program-right-for-you/',\n",
       " 'https://codeup.com/workshops/pride-in-tech-panel/',\n",
       " 'https://codeup.com/codeup-news/inclusion-at-codeup-during-pride-month-and-always/',\n",
       " 'https://codeup.com/tips-for-prospective-students/mental-health-first-aid-training/',\n",
       " 'https://codeup.com/workshops/codeup-dallas-how-to-succeed-at-a-coding-bootcamp-on-june-9th/',\n",
       " 'https://codeup.com/featured/5-reasons-to-attend-our-new-cloud-administration-program/',\n",
       " 'https://codeup.com/workshops/learn-to-code-python-on-5-21/',\n",
       " 'https://codeup.com/dallas-newsletter/codeup-dallas-joins-career-day/']"
      ]
     },
     "execution_count": 39,
     "metadata": {},
     "output_type": "execute_result"
    }
   ],
   "source": [
    "urls = [urls['href'] for urls in soup.select('h2 a[href]')]\n",
    "urls"
   ]
  },
  {
   "cell_type": "code",
   "execution_count": 55,
   "metadata": {},
   "outputs": [],
   "source": [
    "webpages = urls[0]\n",
    "response = get(webpages, headers=headers)\n",
    "soup = BeautifulSoup(response.text)"
   ]
  },
  {
   "cell_type": "code",
   "execution_count": 44,
   "metadata": {},
   "outputs": [
    {
     "data": {
      "text/plain": [
       "'Is a Career in Tech Recession-Proof?'"
      ]
     },
     "execution_count": 44,
     "metadata": {},
     "output_type": "execute_result"
    }
   ],
   "source": [
    "# getting title\n",
    "soup.find('h1', class_='entry-title').text"
   ]
  },
  {
   "cell_type": "code",
   "execution_count": 63,
   "metadata": {},
   "outputs": [
    {
     "data": {
      "text/plain": [
       "'\\nGiven the current economic climate, many economists are considering the U.S. to be entering a recession. This can cause confusion, fear, and uncertainty, especially as it pertains to job security.\\nTo ease some of those feelings, below you’ll find some careers in tech that tend to hold up better than others amid a recession. In the event of a recession, companies will likely shift to digital strategies, making these careers in tech valuable and highly coveted.\\n\\xa0\\n\\n\\nProgrammer/Developer\\nNo matter the programming language you’ve mastered, having the knowledge alone makes you extremely valuable. The coding skills you possess as a programmer or developer are in-demand for companies looking to build or enhance their websites, and enhance their consumer experience. According to the U.S. Bureau of Labor Statistics, jobs in software development are expected to grow 22% by 2030. This is much faster than the average career.\\n\\n\\xa0\\n\\n\\nCloud Administrator\\nMore businesses are transitioning to cloud servers and this increase sparks the need for cloud administrators to maintain and update the cloud infrastructure. Amid a recession, it is likely that efforts regarding security will be heightened as company strategies shift digitally, and managing a more secure server will be the responsibility of the cloud administrator.\\n\\n\\xa0\\n\\n\\nData Analyst\\nDuring a recession, the need to preserve and monitor data, as well as use data to make predictions to drive a business’ initiatives will be heightened. Data analysts would be relied on heavily to study the data presented and interpret it to solve any current or future problems.\\n\\nThe three positions mentioned above can all be obtained after you complete one of our bootcamps, and take as little as 15 to 20 weeks to complete. Upon successful completion, if you do not land a job in-field within 6 months of graduating from a Codeup program, we will refund your paid tuition back to you.*\\n\\xa0\\nCodeup Programs\\nCodeup is a Texas-based career accelerator, built to help you transition to a career in tech seamlessly, and be well-equipped to succeed in your new role. We offer three different programs: Full-Stack Web Development, Cloud Administration, and Data Science. You can learn more about each of them here or by requesting more information on any that may interest you.\\nIf you have any hesitation about changing your career, or about any of our programs please reach out to us. We would love to help you find the program that best suits your needs and interests. Give us a call today at (210) 802- 7289.\\n*See tuition refund details and specifications here.\\n'"
      ]
     },
     "execution_count": 63,
     "metadata": {},
     "output_type": "execute_result"
    }
   ],
   "source": [
    "# getting content\n",
    "soup.find('div', class_='entry-content').text"
   ]
  },
  {
   "cell_type": "code",
   "execution_count": 46,
   "metadata": {},
   "outputs": [
    {
     "data": {
      "text/plain": [
       "'Given the current economic climate, many economists are considering the U.S. to be entering a recession. This can cause confusion, fear, and uncertainty, especially as it pertains to job security.\\nTo ease some of those feelings, below you’ll find some careers in tech that tend to hold up better than others amid a recession. In the event of a recession, companies will likely shift to digital strategies, making these careers in tech valuable and highly coveted.\\n\\xa0\\n\\n\\nProgrammer/Developer\\nNo matter the programming language you’ve mastered, having the knowledge alone makes you extremely valuable. The coding skills you possess as a programmer or developer are in-demand for companies looking to build or enhance their websites, and enhance their consumer experience. According to the U.S. Bureau of Labor Statistics, jobs in software development are expected to grow 22% by 2030. This is much faster than the average career.\\n\\n\\xa0\\n\\n\\nCloud Administrator\\nMore businesses are transitioning to cloud servers and this increase sparks the need for cloud administrators to maintain and update the cloud infrastructure. Amid a recession, it is likely that efforts regarding security will be heightened as company strategies shift digitally, and managing a more secure server will be the responsibility of the cloud administrator.\\n\\n\\xa0\\n\\n\\nData Analyst\\nDuring a recession, the need to preserve and monitor data, as well as use data to make predictions to drive a business’ initiatives will be heightened. Data analysts would be relied on heavily to study the data presented and interpret it to solve any current or future problems.\\n\\nThe three positions mentioned above can all be obtained after you complete one of our bootcamps, and take as little as 15 to 20 weeks to complete. Upon successful completion, if you do not land a job in-field within 6 months of graduating from a Codeup program, we will refund your paid tuition back to you.*\\n\\xa0\\nCodeup Programs\\nCodeup is a Texas-based career accelerator, built to help you transition to a career in tech seamlessly, and be well-equipped to succeed in your new role. We offer three different programs: Full-Stack Web Development, Cloud Administration, and Data Science. You can learn more about each of them here or by requesting more information on any that may interest you.\\nIf you have any hesitation about changing your career, or about any of our programs please reach out to us. We would love to help you find the program that best suits your needs and interests. Give us a call today at (210) 802- 7289.\\n*See tuition refund details and specifications here.'"
      ]
     },
     "execution_count": 46,
     "metadata": {},
     "output_type": "execute_result"
    }
   ],
   "source": [
    "# Getting content of article\n",
    "soup.find('div', class_='entry-content').text.strip()"
   ]
  },
  {
   "cell_type": "code",
   "execution_count": 50,
   "metadata": {},
   "outputs": [],
   "source": [
    "url = 'https://codeup.com/blog/'\n",
    "headers = {'User-Agent': 'Codeup Data Science'} \n",
    "response = get(url, headers=headers)\n",
    "\n",
    "# Make a soup variable holding the response content\n",
    "soup = BeautifulSoup(response.content, 'html.parser')\n",
    "\n",
    "urls = [urls['href'] for urls in soup.select('h2 a[href]')]\n",
    "\n",
    "articles = []\n",
    "\n",
    "for url in urls:\n",
    "    \n",
    "    url_response = get(url, headers=headers)\n",
    "    soup = BeautifulSoup(url_response.text)\n",
    "    \n",
    "    title = soup.find('h1', class_='entry-title').text\n",
    "    content = soup.find('div', class_='entry-content').text.strip()\n",
    "\n",
    "    article_dict = {\n",
    "        'title': title,\n",
    "        'content': content\n",
    "    }\n",
    "    \n",
    "    articles.append(article_dict)"
   ]
  },
  {
   "cell_type": "code",
   "execution_count": 51,
   "metadata": {},
   "outputs": [
    {
     "data": {
      "text/plain": [
       "[{'title': 'Is a Career in Tech Recession-Proof?',\n",
       "  'content': 'Given the current economic climate, many economists are considering the U.S. to be entering a recession. This can cause confusion, fear, and uncertainty, especially as it pertains to job security.\\nTo ease some of those feelings, below you’ll find some careers in tech that tend to hold up better than others amid a recession. In the event of a recession, companies will likely shift to digital strategies, making these careers in tech valuable and highly coveted.\\n\\xa0\\n\\n\\nProgrammer/Developer\\nNo matter the programming language you’ve mastered, having the knowledge alone makes you extremely valuable. The coding skills you possess as a programmer or developer are in-demand for companies looking to build or enhance their websites, and enhance their consumer experience. According to the U.S. Bureau of Labor Statistics, jobs in software development are expected to grow 22% by 2030. This is much faster than the average career.\\n\\n\\xa0\\n\\n\\nCloud Administrator\\nMore businesses are transitioning to cloud servers and this increase sparks the need for cloud administrators to maintain and update the cloud infrastructure. Amid a recession, it is likely that efforts regarding security will be heightened as company strategies shift digitally, and managing a more secure server will be the responsibility of the cloud administrator.\\n\\n\\xa0\\n\\n\\nData Analyst\\nDuring a recession, the need to preserve and monitor data, as well as use data to make predictions to drive a business’ initiatives will be heightened. Data analysts would be relied on heavily to study the data presented and interpret it to solve any current or future problems.\\n\\nThe three positions mentioned above can all be obtained after you complete one of our bootcamps, and take as little as 15 to 20 weeks to complete. Upon successful completion, if you do not land a job in-field within 6 months of graduating from a Codeup program, we will refund your paid tuition back to you.*\\n\\xa0\\nCodeup Programs\\nCodeup is a Texas-based career accelerator, built to help you transition to a career in tech seamlessly, and be well-equipped to succeed in your new role. We offer three different programs: Full-Stack Web Development, Cloud Administration, and Data Science. You can learn more about each of them here or by requesting more information on any that may interest you.\\nIf you have any hesitation about changing your career, or about any of our programs please reach out to us. We would love to help you find the program that best suits your needs and interests. Give us a call today at (210) 802- 7289.\\n*See tuition refund details and specifications here.'},\n",
       " {'title': 'What Jobs Can You Get After a Coding Bootcamp? Part 3: Web Development',\n",
       "  'content': 'If you’re considering a career in web development, but don’t know what to expect, continue reading and we will help you find out!\\nIn this mini-series, we will take each of our programs here at Codeup: Data Science, Web Development, and Cloud Administration, and outline respectively potential job titles, as well as entry-level salaries.*\\nToday we will be discussing our Full-Stack Web Development program.\\nProgram Overview\\nOur Web Development program is 20 weeks of training in one of the most in-demand fields in the country. Upon completing this program you will have created an app or website from scratch, and have received hours of hands-on training from industry experts to equip you with the tools and knowledge to successfully enter your new career.\\nPotential Jobs\\n\\xa0\\n1. Full-Stack Web Developer\\nA Full-Stack Web Developer is proficient in both front and back-end coding as it pertains to apps, software, and websites. These developers have a good understanding of different coding languages and are capable of building websites that can handle heavy content and still function seamlessly. An entry-level full-stack developer can make an estimated $67,535 according to Glassdoor.\\n2. Software Developer\\nA Software Developer is responsible for programming, building, executing, and maintaining the software and programming they designed. An entry-level software developer can make an estimated $74,407 according to Glassdoor.\\n3. Computer Programmer\\nA Computer Programmer ensures that all aspects of specific software, website, and application are functioning properly. This is accomplished by writing and testing code as well as making adjustments where necessary. An entry-level computer programmer can make an estimated $57,939 according to Glassdoor. \\nHonorable Mention\\nA couple of additional roles to consider upon completing our Web Development program include:\\n\\nFront-End Software Developer: Estimated Entry-Level Salary $75,091\\nApplication Development Analyst: Estimated Entry-Level Salary $67,460\\n\\nInterested in the other parts of this mini-series? Check them out below!\\nPart 1: Data Science\\nPart 2: Cloud Administration\\n*Disclaimer: All information presented in this article is by no means guaranteed by completing a Codeup program. Salaries and duties vary based on factors such as company, location, and experience. These salaries are estimates based on San Antonio, TX data, and these duties are general and may not be exact for every position.'},\n",
       " {'title': 'What Jobs Can You Get After a Coding Bootcamp? Part 2: Cloud Administration',\n",
       "  'content': 'Have you been considering a career in Cloud Administration, but have no idea what your job title or potential salary could be? Continue reading below to find out!\\nIn this mini-series, we will take each of our programs here at Codeup: Data Science, Web Development, and Cloud Administration, and outline respectively potential job titles, as well as entry-level salaries.*\\xa0Let’s discuss Cloud Administration.\\nProgram Overview\\nAt Codeup, we offer a 15-week Cloud Administration program, which was derived from our previous two programs: Systems Engineering and Cyber Cloud. We combined the best of both and blended hands-on practical knowledge with skilled instructors to create the Cloud Administration program.\\nUpon completing this program, you’ll have the opportunity to take on two exams for certifications: Amazon Web Services (AWS) Cloud Practitioner and AWS Solutions Architect Associate.\\xa0\\nPotential Jobs\\nAccording to A Cloud Guru, with an AWS Certification you’ll be equipped with the knowledge and experience to secure a job as the following:\\n1. Cloud Architect\\nAs a Cloud Architect, you will double as an IT specialist responsible for your organization’s cloud infrastructure. This includes system monitoring, computing strategy, planning, building and deployment. An entry-level Cloud Architect can make an estimated $93,892 annually according to Glassdoor.\\xa0\\n2. Cloud Developer\\nA Cloud Developer’s main duties align with a software developer’s. The differentiating factor is a Cloud Developer operates virtually with cloud computing technology. This may include the design, analysis and maintenance of a company’s cloud infrastructure. An entry-level Cloud Developer can make an estimated $89,652 annually according to Glassdoor.\\xa0\\n3. Cloud Systems Administrator\\nA Cloud Systems Administrator can be expected to provide insight on cloud systems, specifically working with IT to provide assistance and resolve operational issues. An entry-level Cloud Systems Administrator can make an estimated $64,805 annually according to Glassdoor.\\nHonorable Mention\\nA few additional roles to consider with AWS Certification include:\\xa0\\n\\nCloud DevOps Engineer- Estimated Entry-Level Salary $88,563\\nCloud Security Engineer- Estimated Entry-Level Salary $85,111\\nCloud Data Architect- Estimated Entry-Level Salary $91,598\\nCloud Consultant- Estimated Entry-Level Salary $72,474\\n\\nInterested in the other parts of this mini-series? Check them out below!\\n\\nPart 1: Data Science\\nPart 3: Web Development (Coming Soon!)\\xa0\\n\\n*Disclaimer: All information presented in this article is by no means guaranteed by completing a Codeup program. Salaries and duties vary based on factors such as company, location, and experience. These salaries are estimates based on San Antonio, TX data, and these duties are general and may not be exact for every position.'},\n",
       " {'title': 'What Jobs Can You Get After a Coding Bootcamp? Part 1: Data Science',\n",
       "  'content': 'If you are interested in embarking on a career in tech, you’re probably wondering what your new job title could be, and even what your salary might look like.*\\xa0In this mini-series, we will take each of our programs here at Codeup: Data Science, Web Development, and Cloud Administration, and outline respectively potential job titles, as well as entry-level salaries.\\xa0Today we will be diving into our Data Science program, with four potential job titles you could take on!\\nProgram Overview\\xa0\\nDuring this 20-week program, you will have the opportunity to take your career to new heights with data science being one of the most needed jobs in tech. You’ll gather data, then clean it, explore it for trends, and apply machine learning models to make predictions.\\nUpon completing this program, you will know how to turn insights into actionable recommendations. You’ll be a huge asset to any company, having all the technical skills to become a data scientist with projects upon projects of experience under your belt.\\xa0\\n1. Data Scientist\\xa0\\nEssentially, a Data Scientist is responsible for analyzing how a business performs to ensure the business stays competitive and relevant. They review the data for deeper meaning and examine it for patterns in an effort to create solutions to business problems. According to Zip Recruiter, the average entry-level salary for a Data Scientist in Texas is $60,677.\\n2. Data Analyst\\nA Data Analyst finds ways to solve a business’ problems through raw data analysis. They are then responsible for sharing this information with management and stakeholders. According to Indeed, the average entry-level salary for a Data Analyst is $60,332.\\n3. Machine Learning Engineer\\xa0\\nA Machine Learning (ML) Engineer is usually on a Data Science team. They are responsible for artificial intelligence, and its functions as well as making predictions on other machine learning capabilities. They will create ML prototypes and models, then test and retrain where necessary. According to Salary.com, the average entry-level salary for a ML Engineer is $115,795.\\n4. Business Intelligence Analyst\\xa0\\nA Business Intelligence Analyst, also known as a BI Analyst is responsible for understanding computer programming languages. Their primary goal is to give accurate insight to decision-makers regarding the market, productivity, competition, and customer responses. According to Payscale, the average entry-level salary for a BI Analyst is $58,627.\\nWe understand changing careers can be scary. If you chose Codeup, we will make sure you are plenty prepared to not only take on one of these roles but succeed in it.\\xa0\\nThis program gives you more than a textbook and a bank of pre-recorded lectures. You get hands-on instruction from industry experts, along with the power to change your life.\\xa0\\nIf you’re ready, apply today and let’s turn your dreams into reality and get your seat secured in our next Data Science cohort.\\xa0\\n\\xa0\\n*Disclaimer: All information presented in this article is by no means guaranteed by completing a Codeup program. Salaries and duties vary based on factors such as company, location, and experience. These salaries are estimates based on San Antonio, TX data, and these duties are general and may not be exact for every position.'},\n",
       " {'title': 'Is a Career in Tech Recession-Proof?',\n",
       "  'content': 'Given the current economic climate, many economists are considering the U.S. to be entering a recession. This can cause confusion, fear, and uncertainty, especially as it pertains to job security.\\nTo ease some of those feelings, below you’ll find some careers in tech that tend to hold up better than others amid a recession. In the event of a recession, companies will likely shift to digital strategies, making these careers in tech valuable and highly coveted.\\n\\xa0\\n\\n\\nProgrammer/Developer\\nNo matter the programming language you’ve mastered, having the knowledge alone makes you extremely valuable. The coding skills you possess as a programmer or developer are in-demand for companies looking to build or enhance their websites, and enhance their consumer experience. According to the U.S. Bureau of Labor Statistics, jobs in software development are expected to grow 22% by 2030. This is much faster than the average career.\\n\\n\\xa0\\n\\n\\nCloud Administrator\\nMore businesses are transitioning to cloud servers and this increase sparks the need for cloud administrators to maintain and update the cloud infrastructure. Amid a recession, it is likely that efforts regarding security will be heightened as company strategies shift digitally, and managing a more secure server will be the responsibility of the cloud administrator.\\n\\n\\xa0\\n\\n\\nData Analyst\\nDuring a recession, the need to preserve and monitor data, as well as use data to make predictions to drive a business’ initiatives will be heightened. Data analysts would be relied on heavily to study the data presented and interpret it to solve any current or future problems.\\n\\nThe three positions mentioned above can all be obtained after you complete one of our bootcamps, and take as little as 15 to 20 weeks to complete. Upon successful completion, if you do not land a job in-field within 6 months of graduating from a Codeup program, we will refund your paid tuition back to you.*\\n\\xa0\\nCodeup Programs\\nCodeup is a Texas-based career accelerator, built to help you transition to a career in tech seamlessly, and be well-equipped to succeed in your new role. We offer three different programs: Full-Stack Web Development, Cloud Administration, and Data Science. You can learn more about each of them here or by requesting more information on any that may interest you.\\nIf you have any hesitation about changing your career, or about any of our programs please reach out to us. We would love to help you find the program that best suits your needs and interests. Give us a call today at (210) 802- 7289.\\n*See tuition refund details and specifications here.'},\n",
       " {'title': 'Codeup X Superhero Car Show & Comic Con',\n",
       "  'content': 'Codeup had a blast at the San Antonio Superhero Car Show and Comic Con! We had a booth for the all four days of the event, and we got to chat with some great people about Codeup’s offerings, as well as spread the word about our Lego set giveaway (winners announced on our social media accounts and below)!\\nWe would like to extend a huge thank you to PMX events, attendees, and volunteers who helped make this event a big success.\\xa0\\nWinners of the Lego set giveaway:\\n\\nCongratulations! Thank you for participating!\\nCheck out some great pics below!\\n\\n\\n\\n\\n\\n\\n\\n\\n\\n\\n\\n\\n\\n\\n\\n\\n\\n\\n\\n\\n\\n\\n\\n\\n\\n\\n\\nCheck out more upcoming events in San Antonio, and if you’re interested in learning more about Codeup check out our program offerings, we would love to help you jumpstart your career in tech. When you’re ready, start the process by filling out a quick form found\\xa0here.'},\n",
       " {'title': 'What Jobs Can You Get After a Coding Bootcamp? Part 3: Web Development',\n",
       "  'content': 'If you’re considering a career in web development, but don’t know what to expect, continue reading and we will help you find out!\\nIn this mini-series, we will take each of our programs here at Codeup: Data Science, Web Development, and Cloud Administration, and outline respectively potential job titles, as well as entry-level salaries.*\\nToday we will be discussing our Full-Stack Web Development program.\\nProgram Overview\\nOur Web Development program is 20 weeks of training in one of the most in-demand fields in the country. Upon completing this program you will have created an app or website from scratch, and have received hours of hands-on training from industry experts to equip you with the tools and knowledge to successfully enter your new career.\\nPotential Jobs\\n\\xa0\\n1. Full-Stack Web Developer\\nA Full-Stack Web Developer is proficient in both front and back-end coding as it pertains to apps, software, and websites. These developers have a good understanding of different coding languages and are capable of building websites that can handle heavy content and still function seamlessly. An entry-level full-stack developer can make an estimated $67,535 according to Glassdoor.\\n2. Software Developer\\nA Software Developer is responsible for programming, building, executing, and maintaining the software and programming they designed. An entry-level software developer can make an estimated $74,407 according to Glassdoor.\\n3. Computer Programmer\\nA Computer Programmer ensures that all aspects of specific software, website, and application are functioning properly. This is accomplished by writing and testing code as well as making adjustments where necessary. An entry-level computer programmer can make an estimated $57,939 according to Glassdoor. \\nHonorable Mention\\nA couple of additional roles to consider upon completing our Web Development program include:\\n\\nFront-End Software Developer: Estimated Entry-Level Salary $75,091\\nApplication Development Analyst: Estimated Entry-Level Salary $67,460\\n\\nInterested in the other parts of this mini-series? Check them out below!\\nPart 1: Data Science\\nPart 2: Cloud Administration\\n*Disclaimer: All information presented in this article is by no means guaranteed by completing a Codeup program. Salaries and duties vary based on factors such as company, location, and experience. These salaries are estimates based on San Antonio, TX data, and these duties are general and may not be exact for every position.'},\n",
       " {'title': 'Codeup’s New Dallas Campus',\n",
       "  'content': 'Codeup’s Dallas campus has a new location! For more than two years, Codeup has been operating out of our original building on Commerce st. in Dallas, but recently Codeup has moved, and tripled our campus space! Our new address is 900 Jackson Street Suite #400 Dallas, Tx 75202\\n\\nCodeup has been a leading coding boot camp in Texas for more than eight years, with active campuses in San Antonio and Dallas offering accelerated programs in Data Science, Cloud Administration, and Full-Stack Web Development.\\nDallas Tech Scene\\nWith Dallas’ tech scene booming, it is imperative that the appropriate talent is available! We help produce top talent at a fast pace to keep up with the demand for tech jobs in the community.\\nCodeup Dallas Offerings\\nCurrently, Codeup offers a 20-week Full-Stack Web Development program at our Dallas location with hopes to add our other programs in the future.\\nDallas Campus Area\\nLocated in the heart of Downtown Dallas, our new location is surrounded by great restaurants, museums, monuments and statues!\\n\\nJohn F. Kennedy Memorial Plaza\\nDealey Plaza\\nCivic Garden\\nAT&T Discovery District\\nMuseum of Illusions\\nDallas Holocaust and Human Rights Museum\\nDallas World Aquarium\\nReunion Tower\\nNOLA Brasserie\\nTwisted Trompo Taco Restaurant\\nFamily Thais Asian Bistro\\nY.O. Ranch Steakhouse\\n\\nCodeup would love to help you jumpstart your career in tech, whether it be at our new Dallas campus, or one of our San Antonio locations, if you’re ready to transition into a career in Web Development, Data Science or Cloud Administration, we would love to help. Visit us here to apply today or give us a call at (210) 802-7289 to discuss your options.'},\n",
       " {'title': 'Codeup TV Commercial',\n",
       "  'content': 'Codeup has officially made its TV debut! Our community of students, staff and CEO gathered to create the first-ever Codeup TV Commercial! Check it out to get a rundown of our offerings, and take a peek into our downtown Vogue campus where the commercial was filmed.\\nView the Codeup TV commercial below to see what the hype is about!\\n\\nCheck out some behind-the-scenes of filming:\\n\\n\\n\\n\\n\\n\\n\\n\\n\\n\\n\\n\\nCodeup would love to help you jumpstart your career in tech. If you’re interested in learning more, check out our program offerings. When you’re ready, start the process by filling out a quick form found here. \\n“COME JOIN US!”'},\n",
       " {'title': 'What Jobs Can You Get After a Coding Bootcamp? Part 2: Cloud Administration',\n",
       "  'content': 'Have you been considering a career in Cloud Administration, but have no idea what your job title or potential salary could be? Continue reading below to find out!\\nIn this mini-series, we will take each of our programs here at Codeup: Data Science, Web Development, and Cloud Administration, and outline respectively potential job titles, as well as entry-level salaries.*\\xa0Let’s discuss Cloud Administration.\\nProgram Overview\\nAt Codeup, we offer a 15-week Cloud Administration program, which was derived from our previous two programs: Systems Engineering and Cyber Cloud. We combined the best of both and blended hands-on practical knowledge with skilled instructors to create the Cloud Administration program.\\nUpon completing this program, you’ll have the opportunity to take on two exams for certifications: Amazon Web Services (AWS) Cloud Practitioner and AWS Solutions Architect Associate.\\xa0\\nPotential Jobs\\nAccording to A Cloud Guru, with an AWS Certification you’ll be equipped with the knowledge and experience to secure a job as the following:\\n1. Cloud Architect\\nAs a Cloud Architect, you will double as an IT specialist responsible for your organization’s cloud infrastructure. This includes system monitoring, computing strategy, planning, building and deployment. An entry-level Cloud Architect can make an estimated $93,892 annually according to Glassdoor.\\xa0\\n2. Cloud Developer\\nA Cloud Developer’s main duties align with a software developer’s. The differentiating factor is a Cloud Developer operates virtually with cloud computing technology. This may include the design, analysis and maintenance of a company’s cloud infrastructure. An entry-level Cloud Developer can make an estimated $89,652 annually according to Glassdoor.\\xa0\\n3. Cloud Systems Administrator\\nA Cloud Systems Administrator can be expected to provide insight on cloud systems, specifically working with IT to provide assistance and resolve operational issues. An entry-level Cloud Systems Administrator can make an estimated $64,805 annually according to Glassdoor.\\nHonorable Mention\\nA few additional roles to consider with AWS Certification include:\\xa0\\n\\nCloud DevOps Engineer- Estimated Entry-Level Salary $88,563\\nCloud Security Engineer- Estimated Entry-Level Salary $85,111\\nCloud Data Architect- Estimated Entry-Level Salary $91,598\\nCloud Consultant- Estimated Entry-Level Salary $72,474\\n\\nInterested in the other parts of this mini-series? Check them out below!\\n\\nPart 1: Data Science\\nPart 3: Web Development (Coming Soon!)\\xa0\\n\\n*Disclaimer: All information presented in this article is by no means guaranteed by completing a Codeup program. Salaries and duties vary based on factors such as company, location, and experience. These salaries are estimates based on San Antonio, TX data, and these duties are general and may not be exact for every position.'},\n",
       " {'title': 'What Jobs Can You Get After a Coding Bootcamp? Part 1: Data Science',\n",
       "  'content': 'If you are interested in embarking on a career in tech, you’re probably wondering what your new job title could be, and even what your salary might look like.*\\xa0In this mini-series, we will take each of our programs here at Codeup: Data Science, Web Development, and Cloud Administration, and outline respectively potential job titles, as well as entry-level salaries.\\xa0Today we will be diving into our Data Science program, with four potential job titles you could take on!\\nProgram Overview\\xa0\\nDuring this 20-week program, you will have the opportunity to take your career to new heights with data science being one of the most needed jobs in tech. You’ll gather data, then clean it, explore it for trends, and apply machine learning models to make predictions.\\nUpon completing this program, you will know how to turn insights into actionable recommendations. You’ll be a huge asset to any company, having all the technical skills to become a data scientist with projects upon projects of experience under your belt.\\xa0\\n1. Data Scientist\\xa0\\nEssentially, a Data Scientist is responsible for analyzing how a business performs to ensure the business stays competitive and relevant. They review the data for deeper meaning and examine it for patterns in an effort to create solutions to business problems. According to Zip Recruiter, the average entry-level salary for a Data Scientist in Texas is $60,677.\\n2. Data Analyst\\nA Data Analyst finds ways to solve a business’ problems through raw data analysis. They are then responsible for sharing this information with management and stakeholders. According to Indeed, the average entry-level salary for a Data Analyst is $60,332.\\n3. Machine Learning Engineer\\xa0\\nA Machine Learning (ML) Engineer is usually on a Data Science team. They are responsible for artificial intelligence, and its functions as well as making predictions on other machine learning capabilities. They will create ML prototypes and models, then test and retrain where necessary. According to Salary.com, the average entry-level salary for a ML Engineer is $115,795.\\n4. Business Intelligence Analyst\\xa0\\nA Business Intelligence Analyst, also known as a BI Analyst is responsible for understanding computer programming languages. Their primary goal is to give accurate insight to decision-makers regarding the market, productivity, competition, and customer responses. According to Payscale, the average entry-level salary for a BI Analyst is $58,627.\\nWe understand changing careers can be scary. If you chose Codeup, we will make sure you are plenty prepared to not only take on one of these roles but succeed in it.\\xa0\\nThis program gives you more than a textbook and a bank of pre-recorded lectures. You get hands-on instruction from industry experts, along with the power to change your life.\\xa0\\nIf you’re ready, apply today and let’s turn your dreams into reality and get your seat secured in our next Data Science cohort.\\xa0\\n\\xa0\\n*Disclaimer: All information presented in this article is by no means guaranteed by completing a Codeup program. Salaries and duties vary based on factors such as company, location, and experience. These salaries are estimates based on San Antonio, TX data, and these duties are general and may not be exact for every position.'},\n",
       " {'title': 'In-Person Workshop: Learn to Code – JavaScript on 7/26',\n",
       "  'content': 'Join us for our live in-person JavaScript crash course, where we will dig into one of the fastest-growing languages in the software development industry. It’s free and open to all – you don’t need to have any previous programming knowledge to participate. \\nBy the end of the presentation, you will:\\n\\nHave a good understanding of what programming means\\nKnow what JavaScript is and how it’s used\\nThe best part: we will get our hands dirty writing some JavaScript. \\n\\nDon’t worry…we’ll walk you through every step. Come learn to code live with our very own instructor staff. Maybe this will be your jumpstart into an exciting and in-demand career…for FREE! \\nMust be 18+ to participate. \\nParking is free on Tuesdays in downtown San Antonio.'},\n",
       " {'title': 'In-Person Workshop: Learn to Code – Python on 7/19',\n",
       "  'content': 'According to LinkedIn, the “#1 Most Promising Job” is data science! One of the major building blocks to data science is Python. Python is a programming language used to manipulate data, conduct analysis, and apply machine learning algorithms. If you’re curious to learn more, join this free virtual workshop! You will:\\n\\nLearn the basics of Python from our very own Data Science instructors\\nGain hands-on practice programming in Python, including syntax, data types, control structures, and functions\\nGet an introduction to the field of data science\\nUplevel your skills live from the comfort of your own home.\\n\\nDon’t worry — no prior experience is needed to participate. Save your seat quickly – our Python workshops are always in high demand! \\n\\nWhat you need:\\n1. Laptop (does not matter what kind). You need to be able to access WiFi and run an internet browser.\\n2. To RSVP!\\n\\nAGE REQUIREMENT: 17+ \\n\\nParking: \\nYou can park across the street in the parking garage, on the street, or anywhere else downtown. Parking is free on Tuesdays downtown.'},\n",
       " {'title': 'Free JavaScript Workshop at Codeup Dallas on 6/28',\n",
       "  'content': 'Event Info: \\nLocation – Codeup Dallas\\nTime – 6 pm \\nCome Learn JavaScript\\nJoin us for our live in-person JavaScript crash course, where we will dig into one of the fastest-growing languages in the software development industry. It’s free and open to all – you don’t need to have any previous programming knowledge to participate. \\nBy the end of the presentation, you will:\\n\\nHave a good understanding of what programming means\\nKnow what JavaScript is and how it’s used\\nThe best part: we will get our hands dirty writing some JavaScript. \\n\\nDon’t worry…we’ll walk you through every step. Come learn to code live with our very own instructor staff. Maybe this will be your jumpstart into an exciting and in-demand career…for FREE! \\nParking\\nYou can park inside our gragae at our building! Just take a ticket. Once our workshop is over you can stop by the security desk and they will validate your parking for you. \\nMust be 18+ to participate.'},\n",
       " {'title': 'Is Our Cloud Administration Program Right for You?',\n",
       "  'content': 'Changing careers can be scary. The first thing you may be asking yourself is, “where do I begin?” If you are looking into a career in tech, but coding or statistics aren’t your thing, our brand new Cloud Administration program might be just for you!\\nWhat Exactly is Cloud Administration?\\nThe future is in the cloud! As the new way of doing business, all kinds of companies need to build or interact with cloud products. These aren’t just high-tech solutions – they’re the core of everyday products like cloud-based gaming from Xbox, collaborative work tools from Google Drive, and even music streaming services from Spotify!\\xa0A Cloud Administrator works with software developers to design, build, maintain, and optimize a cloud architecture to run software applications.\\nWhat Will You Learn?\\nJust like our Data Science and Web Development programs, the Cloud Administration program is considered a career accelerator. Unlike a traditional 4 year degree, you can complete our program in just 15 weeks! You will receive hands-on training in:\\n\\nNetworking fundamentals\\nLinux Operating System\\nWindows Operating System\\nCloud and Computer Security\\nAmazon Web Services (AWS Cloud)\\n\\nYou’ll even earn two industry-recognized certifications as an AWS Cloud Practitioner and AWS Solutions Architect Associate, fully included in your tuition. You’ll learn how each technology works together, and how they are applied to real projects by starting simple, then progressively getting more complex as you add more tools to your toolbox. We’ll teach you to build infrastructure that enables software and data science products, manage cloud deployments, and optimize for cloud performance.\\xa0\\nAs for instruction, we are dedicated to giving you the best. Your instructors are speaking from real industry experience, and are invested in every student’s success. They’re essentially your personal mentors providing on-the-ground support, making themselves accessible to you when you need them.\\xa0\\nYour Success\\nNot only will you be equipped with in-demand cloud skills, but you’ll also get professional development along the way, including help polishing your resume and LinkedIn, as well as access to our employer network. This program, with the support of our career coaches and placement team, can help you become a:\\xa0\\n\\nCloud Administrator\\nCloud Architect\\nCloud Engineer\\nCloud Network Engineer\\nCloud Security Engineer\\xa0\\n\\nYou’re not stuck in one lane when you come to Codeup. With our instructors, coaches, and placement team you can take what you learn and run with it. Cloud technology is improving every single day and this course can ensure you are at the forefront of helping build and maintain that technology.\\xa0\\nCodeup Payment Options\\nFinancing your career transition can be a bit stressful, but we never want it to stop you from changing your career and applying. We have a dedicated Financial Aid and Enrollment team to walk you through every possible option to pay for your tuition here at Codeup. Whether you are using your VA benefits, grants, loans, scholarships, or self-paying, our team will work with you to ensure you receive all forms of financial aid for which you qualify. You can change your career regardless of your financial situation.\\nWant more information on our Cloud Administration program? Check our student reviews, and our blog on 5 Reasons We Think You Should Attend the Cloud Administration program. You can do more than dream of this life-changing career – you can LIVE IT!. Our application process is the first step to beginning your journey in Cloud Administration today!'},\n",
       " {'title': 'PRIDE in Tech Panel',\n",
       "  'content': 'In celebration of PRIDE month, join our Codeup Alumni from the LGBTQIA+ community as they discuss their careers in tech!\\nHosted by Codeup’s Katie Facemire, our panel will discuss what it was like to attend Codeup, what it’s like to work in tech, and what challenges they face working the tech community as a member of LGBTQIA+.\\xa0Joining us on the panel will be Benjamin Hodge, Natasha Rivers, and Steven Garis. As we mentioned, all three are Codeup Alumni.\\nThe panel is free to attend virtually, but you must register on the page below. Once you register we will send you the exclusive Livestream link.\\nThanks for registering and we will see you soon!'},\n",
       " {'title': 'Inclusion at Codeup During Pride Month (and Always)',\n",
       "  'content': 'Happy Pride Month! Pride Month is a dedicated time to celebrate and support the LGBTQIA+ community. At Codeup, one of our core values is Cultivating Inclusive Growth, something that takes on many shapes, sizes, forms, and colors. From representation in tech to empowering and supporting all, let’s reflect on how we live out this core value for our LGBTQIA+ community, not just during Pride Month, but always.\\nCultivating Inclusive Growth\\nWe’re firm believers that the people making tech should look like the people using it, which is everyone. We’re proud to offer Pride Scholarships year round, which aim to increase, support, and promote representation of the LGBTQIA+ community in tech. However, representation is only one part of cultivating inclusive growth. We want to help create a thriving tech community where everyone feels represented, but also safe and empowered.\\nIn a 2019 survey conducted by Blind, 83% of LGBQ technologists and 78% of trans or gender non-conforming technologists reported that they felt safe in the workplace. In 2020, those numbers dropped to 76% and 64%, respectively.\\nWhy the drop? Maybe recent pushes for representation in tech weren’t followed up with efforts to truly cultivate inclusivity and growth.\\nCodeup Initiatives\\nTo cultivate inclusive growth, we don’t stop at representation. We also empower and support our community so that no one feels unsafe. Our internal DEI Taskforce empowers our staff with resources and conversations that aim to create a diverse culture of support, safety, and inclusivity for each other and our students.\\nEquipped with this knowledge, our staff can cultivate inclusive growth from the first time they interact with an applicant all the way until they get placed into a new job. They may have even felt empowered just by seeing our students and staff sporting their Pride t-shirts around town.\\xa0\\nNot only do we want the people making tech to look like the people using it, we also want them to feel safe and empowered to do so.\\nIf you’re looking for a career in tech, let us empower you every step of the way! First, apply now. Then, apply for our Pride Scholarship.'},\n",
       " {'title': 'Mental Health First Aid Training',\n",
       "  'content': 'As a student of Codeup, going through a massive career transition can be mentally taxing. Did you know that members of our student-facing staff and human resources team are trained in Mental Health First Aid? Let’s dive into what that means for Codeup!\\xa0\\nMental Health First Aid Training\\xa0\\nSome of our Codeup staff that works directly with our students are trained in Mental Health First Aid. This includes members of our student experience team, career coaches, and the human resources department. This training was courtesy of the Center for Health Care Services in San Antonio. They graciously provided the funding and training for our team in this pilot training program.\\xa0\\nWhat is Mental Health First Aid? According to mentalhhealthfirstaid.org, “is a course that teaches you how to identify, understand, and respond to signs of mental illness and substance use disorders. The training gives you the skills you need to reach out and provide initial help and support to someone who may be developing a mental health or substance use problem or experiencing a crisis”.\\nTo be clear, our staff are not licensed, mental health professionals. What MHFA equips our staff with are tools to gauge risk and connect students and staff with the help they might need. This might include recognizing something in a meeting, picking up on cues during a casual conversation, or acting on a pattern behavior.\\xa0\\nHow does this help our students?\\nMany who go through Codeup’s programs will tell you it is both rewarding and challenging all at the same time. Some students have compared learning at Codeup to\\xa0 “drinking from a firehouse”. You learn so much at once, so fast. This style of learning if you are not used to it can be taxing on anyone’s mental fortitude. This allows our staff who work closely with the students to be able to identify if a student is in need of mental health help.\\xa0\\nConsider Your Career Change Today\\nWhy does this skill set matter? You! We’re here to support your career transition as best we can, and Mental Health First Aid training is just one small piece of that larger support effort. Learn more about how we can support your career transition by applying today.'},\n",
       " {'title': 'Codeup Dallas: How to Succeed at a Coding Bootcamp on June 9th',\n",
       "  'content': 'This event is the perfect opportunity for people that have been wondering what to expect in a coding bootcamp and how to make the most of it. This event is for everyone, but especially great for recently admitted students and applicants still working through the admissions process, and/or those considering whether or not to take the leap into a coding bootcamp! We’ve seen hundreds of people come through our bootcamp – hear the keys to success (and common pitfalls) we’ve seen repeated over and over! \\nHosted by: Dimitri Antoniou, VP of Strategic Initiatives \\nThis event in person at our brand new Dallas campus!'},\n",
       " {'title': '5 Reasons To Attend Our New Cloud Administration Program',\n",
       "  'content': 'Come Work In The Cloud\\nWhen your Monday rolls around, do you start to get a sense of dread? That might be a sign to break up with your current job and learn something new.\\xa0At Codeup, we don’t want you to keep your head in the clouds while working a job you can’t stand. You should learn all about the cloud and cloud technology!\\xa0As we charge forward into 2022, we recently announced our brand new Cloud Administration Program.\\xa0\\nThis is a 15-week career accelerator that gets you hands-on experience with:\\n\\nNetworking\\nLinux Operating System\\xa0\\nWindows Operating System\\xa0\\nSecurity\\xa0\\nAmazon Web Services (AWS) Cloud Technology\\n\\nYou’ll earn two industry-recognized certifications as an AWS Cloud Practitioner and AWS Solutions Architect Associate. Both are included as part of your tuition. You will learn how to build infrastructure that enables software and data science products, manage cloud deployments, and optimize for cloud performance.\\xa0\\nHere are 5 reasons why we think you should attend our Cloud Administration program:\\xa0\\n\\xa0\\n1.) The Campus\\xa0\\nLocated on Rackspace property, our Castle campus has everything you need.\\xa0Tabletop games to play with classmates on break? We got foosball and ping pong!\\xa0Need a drink to quench your thirst? We have complimentary soda, water, and tea.\\xa0\\nThere is also lots of seating across the campus for you to study, have lunch, or even meet with classmates.\\xa0\\nParking is free since we are located on Rackspace’s property. You have the option to park about 100 ft away from our building, or you can park on the underground level to save your car from the heat if you attend during the summer months.\\xa0\\nThere is also plenty of food options within driving distance of campus. Fast food options include Mcdonald’s, Panda Express, and Bill Miller’s BBQ. For more sit-down restaurant options, you can visit Applebee’s, Buffalo Wild Wings, or Olive Garden. If you want to bring your lunch we have microwaves and refrigerators to enjoy your lunch on campus.\\xa0\\n\\xa0\\n2.) Time and Money Spent\\xa0\\nIn just 15 weeks you will be on your way to a new career that’s in high demand! That means you won’t have to wait 2 – 4 years like other traditional degree plans to get started in your new career.\\xa0\\nIs the cost of our program a concern? We totally understand if it is. Our Cloud Administration program is also the most affordable option of our three programs at Codeup if you’re looking to save the most money. It’s also more affordable than a traditional degree.\\xa0\\nAt Codeup we have a dedicated team of Financial Aid and Enrollment managers who will work with you one on one to ensure you have everything you need to pay for your time at Codeup that makes sense for your individual situation.\\xa0\\nWe have grants, scholarships, and student loans for those who qualify. If you’re a Veteran or a dependant of a Veteran you might have GI Bill benefits for use at Codeup. We just launched an exclusive scholarship with Climb Credit that you can apply for here.\\xa0\\nLastly, you can always go through your own financial institution to see what options are available to pay for Codeup.\\xa0\\nCheck out a walkthrough of our financial aid options here.\\xa0\\n\\xa0\\n3.) Salary & Benefits\\xa0\\nAlmost everyone changing careers during the “Great Resignation” is doing it for better pay and better benefits.\\xa0\\nWhat if I told you that any career you obtain through our Cloud Administration program offered you both a better salary and better benefits?\\xa0\\nAccording to Indeed.com the average salary for a Cloud Engineer right now is $118,712 in Texas (which is similar to the National average). This mirrors a Glassdoor Median Base salary of $118,999. Glassdoor also notes a job satisfaction rating of 4 out of 5 and over 10K open roles under the title Cloud Engineer.\\xa0\\nAre you guaranteed a salary like that after graduation? Not necessarily since this was an average salary. However, what that means is you have the potential to get to that level of salary at some point in your new career.\\nYour new skill sets could land you at a larger company like Accenture, EY, or even USAA. On the other hand, you could end up at a small company like a startup or SaaS (software as a service) company.\\xa0\\nBoth of those options will typically give you things like a great health care plan, generous amounts of time off, and additional perks like continuing education and gym discounts. Startups might be a little more unique in their offerings like remote work options, paying for new office equipment, and even potentially paying for an annual company retreat if the company works remotely.\\xa0\\n\\xa0\\n4.) Job Security\\nAccording to IT senior managers in a recent Robert Half survey, cloud expertise is the topmost in-demand skill set. This means cloud experts are in high demand and will continue to be as more companies adopt cloud infrastructures. The curriculum you go through in this program won’t stick you to just one lane. Coming out of the Cloud Administration program you could land a job as a:\\xa0\\n\\nCloud Engineer\\nCloud Network Engineer\\xa0\\nCloud Security Engineer\\xa0\\nCloud Architect\\xa0\\nCloud Administrator\\xa0\\n\\nHaving this many career options to choose from makes you a valuable and in-demand candidate for any tech company big or small. At Codeup, we have an employer-influenced curriculum. So once you graduate, you are equipped with the latest skills and knowledge today’s employers are looking for.\\xa0\\n\\xa0\\n5.) Our Instructors Are Next Level\\xa0\\nOur instructors genuinely care about your success. They lecture and take questions in real-time. Instead of giving you the answer, they will guide you in the right direction until you understand it yourself. They are all responsive and engaging, with a commitment to your success and a mission of empowering life change.\\xa0\\nAt other boot camps, you won’t find the same quality of instructors with industry experience, subject matter expertise, and live interactive lectures and lab. Even at the college level, professors often don’t provide individualized attention, hands-on learning, or accountability. Our instructors make a difference in your learning journey.\\xa0\\nIf having awesome instructors wasn’t enough, we also have a dedicated Student Experience team. This team is designed to work in collaboration with our instructors to ensure your success. Need a one-on-one session with your instructor? They can help with that. Need help just managing your time better? They can help with that too! These are passionate education professionals who want to empower you to get to that finish line we call graduation!\\xa0\\nRead more about why you need the best coding Bootcamp instructors here.\\xa0\\n\\xa0\\nWrapping Up\\nAs we mentioned, as more companies adopt cloud technologies the demand for cloud experts will only continue to grow. Take this as a sign to launch your career in tech and attend our brand new Cloud Administration program today.\\xa0\\nOur next class starts June 16th so don’t wait to get started and fill out this form here for our admissions team to get in touch with you. You can beat the heat this summer, learn new skills, and launch your career in the cloud! We can’t wait to hear from you!'},\n",
       " {'title': 'Learn to Code: Python on 5/21',\n",
       "  'content': 'According to LinkedIn, the “#1 Most Promising Job” is data science! One of the major building blocks of data science is Python. What is data science? What is Python? If you’re curious, join this free virtual workshop to learn the basics of Python from our very own Data Science instructors and get an introduction to the field of data science, brought to you live from the comfort of your own home.\\nPython is the dominant programming language in data science, used to manipulate data, conduct analysis, and apply machine learning algorithms. You will gain hands-on practice with programming Python including syntax, data types, control structures, and functions. Don’t worry — no prior experience is needed to participate in this workshop.\\nSave your seat quickly – our Python workshops are always in high demand! \\nWhat you need:\\n1. Laptop (does not matter what kind). You need to be able to access WiFi and run an internet browser.\\n2. To RSVP!\\nYou must be 18+ to attend the workshop and also must live in the United States. The ticket is subject to cancellation if under 18 or live outside the US. of'},\n",
       " {'title': 'Codeup Dallas Joins Career Day',\n",
       "  'content': 'Last week our Codeup Dallas team participated in Career Day at James Madison High School which also included students from Lincoln High School. This Career Day was an initiative by United Way Dallas. Toyota, Goodwill, Dallas college, and the US Army we’re all in attendance as well to support the Career Day.\\xa0\\nOur team directly impacted about 60 students! We held three 45 minute sessions where we talked about the following:\\xa0\\n\\nNon-traditional career paths\\xa0\\nThe different careers in tech\\xa0\\nProvided resources for creating a solid first resume\\xa0\\nDiscussed what we each did at Codeup\\xa0\\n\\nWe wrapped up each session with a fun Kahoot review and awarded some Codeup swag to the top winners!\\xa0\\nWe want to thank United Way Dallas for having us out to support our local Dallas community. If you would like our Coduep team to come out and talk to your students about non-traditional career paths like our career accelerator programs, email us at marketing@codeup.com.\\xa0\\nCheck out more photos of the event on our Instagram page.'}]"
      ]
     },
     "execution_count": 51,
     "metadata": {},
     "output_type": "execute_result"
    }
   ],
   "source": [
    "articles"
   ]
  },
  {
   "cell_type": "code",
   "execution_count": 53,
   "metadata": {},
   "outputs": [
    {
     "data": {
      "text/html": [
       "<div>\n",
       "<style scoped>\n",
       "    .dataframe tbody tr th:only-of-type {\n",
       "        vertical-align: middle;\n",
       "    }\n",
       "\n",
       "    .dataframe tbody tr th {\n",
       "        vertical-align: top;\n",
       "    }\n",
       "\n",
       "    .dataframe thead th {\n",
       "        text-align: right;\n",
       "    }\n",
       "</style>\n",
       "<table border=\"1\" class=\"dataframe\">\n",
       "  <thead>\n",
       "    <tr style=\"text-align: right;\">\n",
       "      <th></th>\n",
       "      <th>title</th>\n",
       "      <th>content</th>\n",
       "    </tr>\n",
       "  </thead>\n",
       "  <tbody>\n",
       "    <tr>\n",
       "      <th>0</th>\n",
       "      <td>Is a Career in Tech Recession-Proof?</td>\n",
       "      <td>Given the current economic climate, many econo...</td>\n",
       "    </tr>\n",
       "    <tr>\n",
       "      <th>1</th>\n",
       "      <td>What Jobs Can You Get After a Coding Bootcamp?...</td>\n",
       "      <td>If you’re considering a career in web developm...</td>\n",
       "    </tr>\n",
       "    <tr>\n",
       "      <th>2</th>\n",
       "      <td>What Jobs Can You Get After a Coding Bootcamp?...</td>\n",
       "      <td>Have you been considering a career in Cloud Ad...</td>\n",
       "    </tr>\n",
       "    <tr>\n",
       "      <th>3</th>\n",
       "      <td>What Jobs Can You Get After a Coding Bootcamp?...</td>\n",
       "      <td>If you are interested in embarking on a career...</td>\n",
       "    </tr>\n",
       "    <tr>\n",
       "      <th>4</th>\n",
       "      <td>Is a Career in Tech Recession-Proof?</td>\n",
       "      <td>Given the current economic climate, many econo...</td>\n",
       "    </tr>\n",
       "    <tr>\n",
       "      <th>5</th>\n",
       "      <td>Codeup X Superhero Car Show &amp; Comic Con</td>\n",
       "      <td>Codeup had a blast at the San Antonio Superher...</td>\n",
       "    </tr>\n",
       "    <tr>\n",
       "      <th>6</th>\n",
       "      <td>What Jobs Can You Get After a Coding Bootcamp?...</td>\n",
       "      <td>If you’re considering a career in web developm...</td>\n",
       "    </tr>\n",
       "    <tr>\n",
       "      <th>7</th>\n",
       "      <td>Codeup’s New Dallas Campus</td>\n",
       "      <td>Codeup’s Dallas campus has a new location! For...</td>\n",
       "    </tr>\n",
       "    <tr>\n",
       "      <th>8</th>\n",
       "      <td>Codeup TV Commercial</td>\n",
       "      <td>Codeup has officially made its TV debut! Our c...</td>\n",
       "    </tr>\n",
       "    <tr>\n",
       "      <th>9</th>\n",
       "      <td>What Jobs Can You Get After a Coding Bootcamp?...</td>\n",
       "      <td>Have you been considering a career in Cloud Ad...</td>\n",
       "    </tr>\n",
       "    <tr>\n",
       "      <th>10</th>\n",
       "      <td>What Jobs Can You Get After a Coding Bootcamp?...</td>\n",
       "      <td>If you are interested in embarking on a career...</td>\n",
       "    </tr>\n",
       "    <tr>\n",
       "      <th>11</th>\n",
       "      <td>In-Person Workshop: Learn to Code – JavaScript...</td>\n",
       "      <td>Join us for our live in-person JavaScript cras...</td>\n",
       "    </tr>\n",
       "    <tr>\n",
       "      <th>12</th>\n",
       "      <td>In-Person Workshop: Learn to Code – Python on ...</td>\n",
       "      <td>According to LinkedIn, the “#1 Most Promising ...</td>\n",
       "    </tr>\n",
       "    <tr>\n",
       "      <th>13</th>\n",
       "      <td>Free JavaScript Workshop at Codeup Dallas on 6/28</td>\n",
       "      <td>Event Info: \\nLocation – Codeup Dallas\\nTime –...</td>\n",
       "    </tr>\n",
       "    <tr>\n",
       "      <th>14</th>\n",
       "      <td>Is Our Cloud Administration Program Right for ...</td>\n",
       "      <td>Changing careers can be scary. The first thing...</td>\n",
       "    </tr>\n",
       "    <tr>\n",
       "      <th>15</th>\n",
       "      <td>PRIDE in Tech Panel</td>\n",
       "      <td>In celebration of PRIDE month, join our Codeup...</td>\n",
       "    </tr>\n",
       "    <tr>\n",
       "      <th>16</th>\n",
       "      <td>Inclusion at Codeup During Pride Month (and Al...</td>\n",
       "      <td>Happy Pride Month! Pride Month is a dedicated ...</td>\n",
       "    </tr>\n",
       "    <tr>\n",
       "      <th>17</th>\n",
       "      <td>Mental Health First Aid Training</td>\n",
       "      <td>As a student of Codeup, going through a massiv...</td>\n",
       "    </tr>\n",
       "    <tr>\n",
       "      <th>18</th>\n",
       "      <td>Codeup Dallas: How to Succeed at a Coding Boot...</td>\n",
       "      <td>This event is the perfect opportunity for peop...</td>\n",
       "    </tr>\n",
       "    <tr>\n",
       "      <th>19</th>\n",
       "      <td>5 Reasons To Attend Our New Cloud Administrati...</td>\n",
       "      <td>Come Work In The Cloud\\nWhen your Monday rolls...</td>\n",
       "    </tr>\n",
       "    <tr>\n",
       "      <th>20</th>\n",
       "      <td>Learn to Code: Python on 5/21</td>\n",
       "      <td>According to LinkedIn, the “#1 Most Promising ...</td>\n",
       "    </tr>\n",
       "    <tr>\n",
       "      <th>21</th>\n",
       "      <td>Codeup Dallas Joins Career Day</td>\n",
       "      <td>Last week our Codeup Dallas team participated ...</td>\n",
       "    </tr>\n",
       "  </tbody>\n",
       "</table>\n",
       "</div>"
      ],
      "text/plain": [
       "                                                title  \\\n",
       "0                Is a Career in Tech Recession-Proof?   \n",
       "1   What Jobs Can You Get After a Coding Bootcamp?...   \n",
       "2   What Jobs Can You Get After a Coding Bootcamp?...   \n",
       "3   What Jobs Can You Get After a Coding Bootcamp?...   \n",
       "4                Is a Career in Tech Recession-Proof?   \n",
       "5             Codeup X Superhero Car Show & Comic Con   \n",
       "6   What Jobs Can You Get After a Coding Bootcamp?...   \n",
       "7                          Codeup’s New Dallas Campus   \n",
       "8                                Codeup TV Commercial   \n",
       "9   What Jobs Can You Get After a Coding Bootcamp?...   \n",
       "10  What Jobs Can You Get After a Coding Bootcamp?...   \n",
       "11  In-Person Workshop: Learn to Code – JavaScript...   \n",
       "12  In-Person Workshop: Learn to Code – Python on ...   \n",
       "13  Free JavaScript Workshop at Codeup Dallas on 6/28   \n",
       "14  Is Our Cloud Administration Program Right for ...   \n",
       "15                                PRIDE in Tech Panel   \n",
       "16  Inclusion at Codeup During Pride Month (and Al...   \n",
       "17                   Mental Health First Aid Training   \n",
       "18  Codeup Dallas: How to Succeed at a Coding Boot...   \n",
       "19  5 Reasons To Attend Our New Cloud Administrati...   \n",
       "20                      Learn to Code: Python on 5/21   \n",
       "21                     Codeup Dallas Joins Career Day   \n",
       "\n",
       "                                              content  \n",
       "0   Given the current economic climate, many econo...  \n",
       "1   If you’re considering a career in web developm...  \n",
       "2   Have you been considering a career in Cloud Ad...  \n",
       "3   If you are interested in embarking on a career...  \n",
       "4   Given the current economic climate, many econo...  \n",
       "5   Codeup had a blast at the San Antonio Superher...  \n",
       "6   If you’re considering a career in web developm...  \n",
       "7   Codeup’s Dallas campus has a new location! For...  \n",
       "8   Codeup has officially made its TV debut! Our c...  \n",
       "9   Have you been considering a career in Cloud Ad...  \n",
       "10  If you are interested in embarking on a career...  \n",
       "11  Join us for our live in-person JavaScript cras...  \n",
       "12  According to LinkedIn, the “#1 Most Promising ...  \n",
       "13  Event Info: \\nLocation – Codeup Dallas\\nTime –...  \n",
       "14  Changing careers can be scary. The first thing...  \n",
       "15  In celebration of PRIDE month, join our Codeup...  \n",
       "16  Happy Pride Month! Pride Month is a dedicated ...  \n",
       "17  As a student of Codeup, going through a massiv...  \n",
       "18  This event is the perfect opportunity for peop...  \n",
       "19  Come Work In The Cloud\\nWhen your Monday rolls...  \n",
       "20  According to LinkedIn, the “#1 Most Promising ...  \n",
       "21  Last week our Codeup Dallas team participated ...  "
      ]
     },
     "execution_count": 53,
     "metadata": {},
     "output_type": "execute_result"
    }
   ],
   "source": [
    "pd.DataFrame(articles)"
   ]
  },
  {
   "cell_type": "markdown",
   "metadata": {},
   "source": [
    "### Date"
   ]
  },
  {
   "cell_type": "code",
   "execution_count": 64,
   "metadata": {},
   "outputs": [],
   "source": [
    "url = 'https://codeup.com/blog/'\n",
    "headers = {'User-Agent': 'Codeup Data Science'} # Some websites don't accept the pyhon-requests default user-agent\n",
    "response = get(url, headers=headers)"
   ]
  },
  {
   "cell_type": "code",
   "execution_count": 65,
   "metadata": {},
   "outputs": [],
   "source": [
    "# Make a soup variable holding the response content\n",
    "soup = BeautifulSoup(response.content, 'html.parser')"
   ]
  },
  {
   "cell_type": "code",
   "execution_count": 66,
   "metadata": {},
   "outputs": [
    {
     "data": {
      "text/plain": [
       "[<span class=\"menu-name-behind\"></span>,\n",
       " <span class=\"menu-text\"></span>,\n",
       " <span class=\"hamburger-box\">\n",
       " <span class=\"hamburger-inner\"></span>\n",
       " </span>,\n",
       " <span class=\"hamburger-inner\"></span>,\n",
       " <span id=\"et_search_icon\"></span>,\n",
       " <span class=\"close\"></span>,\n",
       " <span class=\"mobile_menu_bar\"></span>,\n",
       " <span class=\"published\">Aug 12, 2022</span>,\n",
       " <span class=\"published\">Aug 10, 2022</span>,\n",
       " <span class=\"published\">Aug 2, 2022</span>,\n",
       " <span class=\"published\">Jul 25, 2022</span>,\n",
       " <span class=\"published\">Jul 20, 2022</span>,\n",
       " <span class=\"published\">Jul 14, 2022</span>,\n",
       " <span class=\"published\">Jul 7, 2022</span>,\n",
       " <span class=\"published\">Jul 6, 2022</span>,\n",
       " <span class=\"published\">Jun 20, 2022</span>,\n",
       " <span class=\"published\">Jun 19, 2022</span>,\n",
       " <span class=\"published\">Jun 8, 2022</span>,\n",
       " <span class=\"published\">Jun 5, 2022</span>,\n",
       " <span class=\"published\">Jun 1, 2022</span>,\n",
       " <span class=\"published\">May 31, 2022</span>,\n",
       " <span class=\"published\">May 23, 2022</span>,\n",
       " <span class=\"published\">May 17, 2022</span>,\n",
       " <span class=\"published\">May 16, 2022</span>,\n",
       " <span class=\"published\">May 16, 2022</span>,\n",
       " <span aria-hidden=\"true\" class=\"et_pb_social_media_follow_network_name\">Follow</span>,\n",
       " <span aria-hidden=\"true\" class=\"et_pb_social_media_follow_network_name\">Follow</span>,\n",
       " <span aria-hidden=\"true\" class=\"et_pb_social_media_follow_network_name\">Follow</span>,\n",
       " <span aria-hidden=\"true\" class=\"et_pb_social_media_follow_network_name\">Follow</span>,\n",
       " <span aria-hidden=\"true\" class=\"et_pb_social_media_follow_network_name\">Follow</span>,\n",
       " <span class=\"et_pb_image_wrap\"><img alt=\"quack quack\" class=\"wp-image-15815\" height=\"256\" loading=\"lazy\" sizes=\"(max-width: 336px) 100vw, 336px\" src=\"https://199lj33nqk3p88xz03dvn481-wpengine.netdna-ssl.com/wp-content/uploads/2018/08/codey-1.png\" srcset=\"https://199lj33nqk3p88xz03dvn481-wpengine.netdna-ssl.com/wp-content/uploads/2018/08/codey-1.png 336w, https://199lj33nqk3p88xz03dvn481-wpengine.netdna-ssl.com/wp-content/uploads/2018/08/codey-1-300x229.png 300w\" title=\"Codey\" width=\"336\"/></span>,\n",
       " <span style=\"font-size: x-small;\">If you love researching data and reading the fine print, you’ll do well in our programs.</span>,\n",
       " <span><div class=\"cli-bar-container cli-style-v2\"><div class=\"cli-bar-message\">We use cookies on our website to give you the most relevant experience by remembering your preferences and repeat visits. By clicking “Accept”, you consent to the use of ALL the cookies.<div class=\"wt-cli-ccpa-element\"> <a class=\"wt-cli-ccpa-opt-out\" style=\"color:#333333\">No worries, we do not sell your personal information.</a>.</div></div><div class=\"cli-bar-btn_container\"><a class=\"medium cli-plugin-button cli-plugin-main-button cli_settings_button\" role=\"button\" style=\"margin:0px 10px 0px 5px\">Cookie Settings</a><a class=\"medium cli-plugin-button cli-plugin-main-button cookie_action_close_header cli_action_button wt-cli-accept-btn\" data-cli_action=\"accept\" id=\"cookie_action_close_header\" role=\"button\" style=\"display:inline-block\">Accept</a></div></div></span>,\n",
       " <span id=\"cookie_hdr_showagain\">Manage consent</span>,\n",
       " <span class=\"wt-cli-sr-only\">Close</span>,\n",
       " <span class=\"cli-necessary-caption\">Always Enabled</span>,\n",
       " <span class=\"wt-cli-sr-only\">Functional</span>,\n",
       " <span class=\"wt-cli-sr-only\">Performance</span>,\n",
       " <span class=\"wt-cli-sr-only\">Analytics</span>,\n",
       " <span class=\"wt-cli-sr-only\">Advertisement</span>,\n",
       " <span class=\"wt-cli-sr-only\">Others</span>,\n",
       " <span class=\"et_pb_scroll_top et-pb-icon\"></span>]"
      ]
     },
     "execution_count": 66,
     "metadata": {},
     "output_type": "execute_result"
    }
   ],
   "source": [
    "soup.find_all(\"span\")"
   ]
  },
  {
   "cell_type": "code",
   "execution_count": null,
   "metadata": {},
   "outputs": [],
   "source": [
    "soup.select('h2 a[href]')]\n",
    "soup.select('p span[href]')]"
   ]
  },
  {
   "cell_type": "code",
   "execution_count": 95,
   "metadata": {},
   "outputs": [],
   "source": [
    "dates = soup.find_all('span', class_='published')"
   ]
  },
  {
   "cell_type": "code",
   "execution_count": 90,
   "metadata": {},
   "outputs": [
    {
     "data": {
      "text/plain": [
       "'Aug 12, 2022'"
      ]
     },
     "execution_count": 90,
     "metadata": {},
     "output_type": "execute_result"
    }
   ],
   "source": [
    "soup.find_all('span', class_='published')[0].text"
   ]
  },
  {
   "cell_type": "code",
   "execution_count": 96,
   "metadata": {},
   "outputs": [
    {
     "data": {
      "text/plain": [
       "[<span class=\"published\">Aug 12, 2022</span>,\n",
       " <span class=\"published\">Aug 10, 2022</span>,\n",
       " <span class=\"published\">Aug 2, 2022</span>,\n",
       " <span class=\"published\">Jul 25, 2022</span>,\n",
       " <span class=\"published\">Jul 20, 2022</span>,\n",
       " <span class=\"published\">Jul 14, 2022</span>,\n",
       " <span class=\"published\">Jul 7, 2022</span>,\n",
       " <span class=\"published\">Jul 6, 2022</span>,\n",
       " <span class=\"published\">Jun 20, 2022</span>,\n",
       " <span class=\"published\">Jun 19, 2022</span>,\n",
       " <span class=\"published\">Jun 8, 2022</span>,\n",
       " <span class=\"published\">Jun 5, 2022</span>,\n",
       " <span class=\"published\">Jun 1, 2022</span>,\n",
       " <span class=\"published\">May 31, 2022</span>,\n",
       " <span class=\"published\">May 23, 2022</span>,\n",
       " <span class=\"published\">May 17, 2022</span>,\n",
       " <span class=\"published\">May 16, 2022</span>,\n",
       " <span class=\"published\">May 16, 2022</span>]"
      ]
     },
     "execution_count": 96,
     "metadata": {},
     "output_type": "execute_result"
    }
   ],
   "source": [
    "dates"
   ]
  },
  {
   "cell_type": "code",
   "execution_count": 98,
   "metadata": {},
   "outputs": [
    {
     "data": {
      "text/plain": [
       "['Aug 12, 2022',\n",
       " 'Aug 10, 2022',\n",
       " 'Aug 2, 2022',\n",
       " 'Jul 25, 2022',\n",
       " 'Jul 20, 2022',\n",
       " 'Jul 14, 2022',\n",
       " 'Jul 7, 2022',\n",
       " 'Jul 6, 2022',\n",
       " 'Jun 20, 2022',\n",
       " 'Jun 19, 2022',\n",
       " 'Jun 8, 2022',\n",
       " 'Jun 5, 2022',\n",
       " 'Jun 1, 2022',\n",
       " 'May 31, 2022',\n",
       " 'May 23, 2022',\n",
       " 'May 17, 2022',\n",
       " 'May 16, 2022',\n",
       " 'May 16, 2022']"
      ]
     },
     "execution_count": 98,
     "metadata": {},
     "output_type": "execute_result"
    }
   ],
   "source": [
    "dates = [date.text for date in soup.find_all('span', class_='published')]\n",
    "dates"
   ]
  },
  {
   "cell_type": "code",
   "execution_count": 4,
   "metadata": {},
   "outputs": [],
   "source": [
    "url = 'https://codeup.com/blog/'\n",
    "headers = {'User-Agent': 'Codeup Data Science'} \n",
    "response = get(url, headers=headers)\n",
    "\n",
    "# Make a soup variable holding the response content\n",
    "soup = BeautifulSoup(response.content, 'html.parser')\n",
    "\n",
    "urls = [urls['href'] for urls in soup.select('h2 a[href]')]\n",
    "\n",
    "articles = []\n",
    "\n",
    "for url in urls:\n",
    "    \n",
    "    url_response = get(url, headers=headers)\n",
    "    soup = BeautifulSoup(url_response.text)\n",
    "    \n",
    "    title = soup.find('h1', class_='entry-title').text\n",
    "    content = soup.find('div', class_='entry-content').text.strip()\n",
    "    dates = [date.text for date in soup.find_all('span', class_='published')]\n",
    "\n",
    "    article_dict = {\n",
    "        'title': title,\n",
    "        'content': content,\n",
    "        'date': dates\n",
    "    }\n",
    "    \n",
    "    articles.append(article_dict)"
   ]
  },
  {
   "cell_type": "code",
   "execution_count": 6,
   "metadata": {},
   "outputs": [
    {
     "data": {
      "text/html": [
       "<div>\n",
       "<style scoped>\n",
       "    .dataframe tbody tr th:only-of-type {\n",
       "        vertical-align: middle;\n",
       "    }\n",
       "\n",
       "    .dataframe tbody tr th {\n",
       "        vertical-align: top;\n",
       "    }\n",
       "\n",
       "    .dataframe thead th {\n",
       "        text-align: right;\n",
       "    }\n",
       "</style>\n",
       "<table border=\"1\" class=\"dataframe\">\n",
       "  <thead>\n",
       "    <tr style=\"text-align: right;\">\n",
       "      <th></th>\n",
       "      <th>title</th>\n",
       "      <th>content</th>\n",
       "      <th>date</th>\n",
       "    </tr>\n",
       "  </thead>\n",
       "  <tbody>\n",
       "    <tr>\n",
       "      <th>0</th>\n",
       "      <td>Is a Career in Tech Recession-Proof?</td>\n",
       "      <td>Given the current economic climate, many econo...</td>\n",
       "      <td>[Aug 12, 2022]</td>\n",
       "    </tr>\n",
       "    <tr>\n",
       "      <th>1</th>\n",
       "      <td>What Jobs Can You Get After a Coding Bootcamp?...</td>\n",
       "      <td>If you’re considering a career in web developm...</td>\n",
       "      <td>[Aug 2, 2022]</td>\n",
       "    </tr>\n",
       "    <tr>\n",
       "      <th>2</th>\n",
       "      <td>What Jobs Can You Get After a Coding Bootcamp?...</td>\n",
       "      <td>Have you been considering a career in Cloud Ad...</td>\n",
       "      <td>[Jul 14, 2022]</td>\n",
       "    </tr>\n",
       "    <tr>\n",
       "      <th>3</th>\n",
       "      <td>What Jobs Can You Get After a Coding Bootcamp?...</td>\n",
       "      <td>If you are interested in embarking on a career...</td>\n",
       "      <td>[Jul 7, 2022]</td>\n",
       "    </tr>\n",
       "    <tr>\n",
       "      <th>4</th>\n",
       "      <td>Is a Career in Tech Recession-Proof?</td>\n",
       "      <td>Given the current economic climate, many econo...</td>\n",
       "      <td>[Aug 12, 2022]</td>\n",
       "    </tr>\n",
       "    <tr>\n",
       "      <th>5</th>\n",
       "      <td>Codeup X Superhero Car Show &amp; Comic Con</td>\n",
       "      <td>Codeup had a blast at the San Antonio Superher...</td>\n",
       "      <td>[Aug 10, 2022]</td>\n",
       "    </tr>\n",
       "    <tr>\n",
       "      <th>6</th>\n",
       "      <td>What Jobs Can You Get After a Coding Bootcamp?...</td>\n",
       "      <td>If you’re considering a career in web developm...</td>\n",
       "      <td>[Aug 2, 2022]</td>\n",
       "    </tr>\n",
       "    <tr>\n",
       "      <th>7</th>\n",
       "      <td>Codeup’s New Dallas Campus</td>\n",
       "      <td>Codeup’s Dallas campus has a new location! For...</td>\n",
       "      <td>[Jul 25, 2022]</td>\n",
       "    </tr>\n",
       "    <tr>\n",
       "      <th>8</th>\n",
       "      <td>Codeup TV Commercial</td>\n",
       "      <td>Codeup has officially made its TV debut! Our c...</td>\n",
       "      <td>[Jul 20, 2022]</td>\n",
       "    </tr>\n",
       "    <tr>\n",
       "      <th>9</th>\n",
       "      <td>What Jobs Can You Get After a Coding Bootcamp?...</td>\n",
       "      <td>Have you been considering a career in Cloud Ad...</td>\n",
       "      <td>[Jul 14, 2022]</td>\n",
       "    </tr>\n",
       "    <tr>\n",
       "      <th>10</th>\n",
       "      <td>What Jobs Can You Get After a Coding Bootcamp?...</td>\n",
       "      <td>If you are interested in embarking on a career...</td>\n",
       "      <td>[Jul 7, 2022]</td>\n",
       "    </tr>\n",
       "    <tr>\n",
       "      <th>11</th>\n",
       "      <td>In-Person Workshop: Learn to Code – JavaScript...</td>\n",
       "      <td>Join us for our live in-person JavaScript cras...</td>\n",
       "      <td>[Jul 6, 2022]</td>\n",
       "    </tr>\n",
       "    <tr>\n",
       "      <th>12</th>\n",
       "      <td>In-Person Workshop: Learn to Code – Python on ...</td>\n",
       "      <td>According to LinkedIn, the “#1 Most Promising ...</td>\n",
       "      <td>[Jun 20, 2022]</td>\n",
       "    </tr>\n",
       "    <tr>\n",
       "      <th>13</th>\n",
       "      <td>Free JavaScript Workshop at Codeup Dallas on 6/28</td>\n",
       "      <td>Event Info: \\nLocation – Codeup Dallas\\nTime –...</td>\n",
       "      <td>[Jun 19, 2022]</td>\n",
       "    </tr>\n",
       "    <tr>\n",
       "      <th>14</th>\n",
       "      <td>Is Our Cloud Administration Program Right for ...</td>\n",
       "      <td>Changing careers can be scary. The first thing...</td>\n",
       "      <td>[Jun 8, 2022]</td>\n",
       "    </tr>\n",
       "    <tr>\n",
       "      <th>15</th>\n",
       "      <td>PRIDE in Tech Panel</td>\n",
       "      <td>In celebration of PRIDE month, join our Codeup...</td>\n",
       "      <td>[Jun 5, 2022]</td>\n",
       "    </tr>\n",
       "    <tr>\n",
       "      <th>16</th>\n",
       "      <td>Inclusion at Codeup During Pride Month (and Al...</td>\n",
       "      <td>Happy Pride Month! Pride Month is a dedicated ...</td>\n",
       "      <td>[Jun 1, 2022]</td>\n",
       "    </tr>\n",
       "    <tr>\n",
       "      <th>17</th>\n",
       "      <td>Mental Health First Aid Training</td>\n",
       "      <td>As a student of Codeup, going through a massiv...</td>\n",
       "      <td>[May 31, 2022]</td>\n",
       "    </tr>\n",
       "    <tr>\n",
       "      <th>18</th>\n",
       "      <td>Codeup Dallas: How to Succeed at a Coding Boot...</td>\n",
       "      <td>This event is the perfect opportunity for peop...</td>\n",
       "      <td>[May 23, 2022]</td>\n",
       "    </tr>\n",
       "    <tr>\n",
       "      <th>19</th>\n",
       "      <td>5 Reasons To Attend Our New Cloud Administrati...</td>\n",
       "      <td>Come Work In The Cloud\\nWhen your Monday rolls...</td>\n",
       "      <td>[May 17, 2022]</td>\n",
       "    </tr>\n",
       "    <tr>\n",
       "      <th>20</th>\n",
       "      <td>Learn to Code: Python on 5/21</td>\n",
       "      <td>According to LinkedIn, the “#1 Most Promising ...</td>\n",
       "      <td>[May 16, 2022]</td>\n",
       "    </tr>\n",
       "    <tr>\n",
       "      <th>21</th>\n",
       "      <td>Codeup Dallas Joins Career Day</td>\n",
       "      <td>Last week our Codeup Dallas team participated ...</td>\n",
       "      <td>[May 16, 2022]</td>\n",
       "    </tr>\n",
       "  </tbody>\n",
       "</table>\n",
       "</div>"
      ],
      "text/plain": [
       "                                                title  \\\n",
       "0                Is a Career in Tech Recession-Proof?   \n",
       "1   What Jobs Can You Get After a Coding Bootcamp?...   \n",
       "2   What Jobs Can You Get After a Coding Bootcamp?...   \n",
       "3   What Jobs Can You Get After a Coding Bootcamp?...   \n",
       "4                Is a Career in Tech Recession-Proof?   \n",
       "5             Codeup X Superhero Car Show & Comic Con   \n",
       "6   What Jobs Can You Get After a Coding Bootcamp?...   \n",
       "7                          Codeup’s New Dallas Campus   \n",
       "8                                Codeup TV Commercial   \n",
       "9   What Jobs Can You Get After a Coding Bootcamp?...   \n",
       "10  What Jobs Can You Get After a Coding Bootcamp?...   \n",
       "11  In-Person Workshop: Learn to Code – JavaScript...   \n",
       "12  In-Person Workshop: Learn to Code – Python on ...   \n",
       "13  Free JavaScript Workshop at Codeup Dallas on 6/28   \n",
       "14  Is Our Cloud Administration Program Right for ...   \n",
       "15                                PRIDE in Tech Panel   \n",
       "16  Inclusion at Codeup During Pride Month (and Al...   \n",
       "17                   Mental Health First Aid Training   \n",
       "18  Codeup Dallas: How to Succeed at a Coding Boot...   \n",
       "19  5 Reasons To Attend Our New Cloud Administrati...   \n",
       "20                      Learn to Code: Python on 5/21   \n",
       "21                     Codeup Dallas Joins Career Day   \n",
       "\n",
       "                                              content            date  \n",
       "0   Given the current economic climate, many econo...  [Aug 12, 2022]  \n",
       "1   If you’re considering a career in web developm...   [Aug 2, 2022]  \n",
       "2   Have you been considering a career in Cloud Ad...  [Jul 14, 2022]  \n",
       "3   If you are interested in embarking on a career...   [Jul 7, 2022]  \n",
       "4   Given the current economic climate, many econo...  [Aug 12, 2022]  \n",
       "5   Codeup had a blast at the San Antonio Superher...  [Aug 10, 2022]  \n",
       "6   If you’re considering a career in web developm...   [Aug 2, 2022]  \n",
       "7   Codeup’s Dallas campus has a new location! For...  [Jul 25, 2022]  \n",
       "8   Codeup has officially made its TV debut! Our c...  [Jul 20, 2022]  \n",
       "9   Have you been considering a career in Cloud Ad...  [Jul 14, 2022]  \n",
       "10  If you are interested in embarking on a career...   [Jul 7, 2022]  \n",
       "11  Join us for our live in-person JavaScript cras...   [Jul 6, 2022]  \n",
       "12  According to LinkedIn, the “#1 Most Promising ...  [Jun 20, 2022]  \n",
       "13  Event Info: \\nLocation – Codeup Dallas\\nTime –...  [Jun 19, 2022]  \n",
       "14  Changing careers can be scary. The first thing...   [Jun 8, 2022]  \n",
       "15  In celebration of PRIDE month, join our Codeup...   [Jun 5, 2022]  \n",
       "16  Happy Pride Month! Pride Month is a dedicated ...   [Jun 1, 2022]  \n",
       "17  As a student of Codeup, going through a massiv...  [May 31, 2022]  \n",
       "18  This event is the perfect opportunity for peop...  [May 23, 2022]  \n",
       "19  Come Work In The Cloud\\nWhen your Monday rolls...  [May 17, 2022]  \n",
       "20  According to LinkedIn, the “#1 Most Promising ...  [May 16, 2022]  \n",
       "21  Last week our Codeup Dallas team participated ...  [May 16, 2022]  "
      ]
     },
     "execution_count": 6,
     "metadata": {},
     "output_type": "execute_result"
    }
   ],
   "source": [
    "pd.DataFrame(articles)"
   ]
  },
  {
   "cell_type": "markdown",
   "metadata": {},
   "source": [
    "## News Articles"
   ]
  },
  {
   "cell_type": "markdown",
   "metadata": {},
   "source": [
    "**Question 2**\n",
    "\n",
    "We will now be scraping text data from inshorts, a website that provides a brief overview of many different topics.\n",
    "\n",
    "Write a function that scrapes the news articles for the following topics:\n",
    "\n",
    "- Business\n",
    "- Sports\n",
    "- Technology\n",
    "- Entertainment\n",
    "\n",
    "The end product of this should be a function named get_news_articles that returns a list of dictionaries, where each dictionary has this shape:\n",
    "\n",
    "```\n",
    "{\n",
    "    'title': 'The article title',\n",
    "    'content': 'The article content',\n",
    "    'category': 'business' # for example\n",
    "}\n",
    "```\n",
    "\n",
    "**Hints**:\n",
    "\n",
    "- Start by inspecting the website in your browser. Figure out which elements will be useful.\n",
    "- Start by creating a function that handles a single article and produces a dictionary like the one above.\n",
    "- Next create a function that will find all the articles on a single page and call the function you created in the last step for every article on the page.\n",
    "- Now create a function that will use the previous two functions to scrape the articles from all the pages that you need, and do any additional processing that needs to be done.\n"
   ]
  },
  {
   "cell_type": "code",
   "execution_count": 11,
   "metadata": {},
   "outputs": [],
   "source": [
    "url = 'https://inshorts.com/en/read'\n",
    "response = get(url)\n",
    "\n",
    "# Make a soup variable holding the response content\n",
    "soup = BeautifulSoup(response.content, 'html.parser')"
   ]
  },
  {
   "cell_type": "code",
   "execution_count": 12,
   "metadata": {},
   "outputs": [
    {
     "name": "stdout",
     "output_type": "stream",
     "text": [
      "<!doctype html>\n",
      "<html lang=\"en\">\n",
      "\n",
      "<head>\n",
      "  <meta charset=\"utf-8\" />\n",
      "  <style>\n",
      "    /* The Modal (background) */\n",
      "    .modal_contact {\n",
      "        display: none; /* Hidden by default */\n",
      "        position: fixed; /* Stay in place */\n",
      "        z-index: 8; /* Sit on top */\n",
      "        left: 0;\n",
      "        top: 0;\n",
      "        width: 100%; /* Full width */\n",
      "        height: 100%;\n",
      "        overflow: auto; /* Enable scroll if ne\n"
     ]
    }
   ],
   "source": [
    "print(response.text[:400])"
   ]
  },
  {
   "cell_type": "code",
   "execution_count": null,
   "metadata": {},
   "outputs": [],
   "source": []
  }
 ],
 "metadata": {
  "kernelspec": {
   "display_name": "Python 3.9.12 ('base')",
   "language": "python",
   "name": "python3"
  },
  "language_info": {
   "codemirror_mode": {
    "name": "ipython",
    "version": 3
   },
   "file_extension": ".py",
   "mimetype": "text/x-python",
   "name": "python",
   "nbconvert_exporter": "python",
   "pygments_lexer": "ipython3",
   "version": "3.9.12"
  },
  "orig_nbformat": 4,
  "vscode": {
   "interpreter": {
    "hash": "3067ead486e059ec00ffe7555bdb889e6e264a24dc711bf108106cc7baee8d5d"
   }
  }
 },
 "nbformat": 4,
 "nbformat_minor": 2
}
